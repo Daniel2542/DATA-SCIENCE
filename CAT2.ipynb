{
  "nbformat": 4,
  "nbformat_minor": 0,
  "metadata": {
    "colab": {
      "provenance": [],
      "authorship_tag": "ABX9TyPE889270DWgZSWmbNTEFGD",
      "include_colab_link": true
    },
    "kernelspec": {
      "name": "python3",
      "display_name": "Python 3"
    },
    "language_info": {
      "name": "python"
    }
  },
  "cells": [
    {
      "cell_type": "markdown",
      "metadata": {
        "id": "view-in-github",
        "colab_type": "text"
      },
      "source": [
        "<a href=\"https://colab.research.google.com/github/Daniel2542/DATA-SCIENCE/blob/main/CAT2.ipynb\" target=\"_parent\"><img src=\"https://colab.research.google.com/assets/colab-badge.svg\" alt=\"Open In Colab\"/></a>"
      ]
    },
    {
      "cell_type": "code",
      "execution_count": 5,
      "metadata": {
        "colab": {
          "base_uri": "https://localhost:8080/"
        },
        "id": "q2ZkKUA2mpTh",
        "outputId": "4b924ec9-c677-4c49-9946-60e37220d443"
      },
      "outputs": [
        {
          "output_type": "stream",
          "name": "stdout",
          "text": [
            "Accuracy: 0.97\n",
            "Confusion Matrix:\n",
            "[[97  0]\n",
            " [ 3  0]]\n",
            "Classification Report:\n",
            "              precision    recall  f1-score   support\n",
            "\n",
            "           0       0.97      1.00      0.98        97\n",
            "           1       1.00      0.00      0.00         3\n",
            "\n",
            "    accuracy                           0.97       100\n",
            "   macro avg       0.98      0.50      0.49       100\n",
            "weighted avg       0.97      0.97      0.96       100\n",
            "\n",
            "Predicted time: 0\n",
            "MAINTENANCE IS NEEDED\n"
          ]
        }
      ],
      "source": [
        "import pandas as pd\n",
        "from sklearn.model_selection import train_test_split\n",
        "from sklearn.ensemble import RandomForestClassifier\n",
        "from sklearn.metrics import accuracy_score, confusion_matrix, classification_report\n",
        "from sklearn.impute import SimpleImputer\n",
        "from sklearn.preprocessing import StandardScaler\n",
        "from sklearn.preprocessing import LabelEncoder\n",
        "\n",
        "# Load data\n",
        "Daniel = pd.read_csv(\"/content/sensor_data.csv\")\n",
        "\n",
        "# Preprocessing\n",
        "imputer = SimpleImputer(strategy='mean')\n",
        "Daniel[['temperature', 'vibration', 'pressure', 'failure', 'Usage']] = imputer.fit_transform(Daniel[['temperature', 'vibration', 'pressure', 'failure', 'Usage']])\n",
        "\n",
        "scaler = StandardScaler()\n",
        "Daniel[['temperature', 'vibration', 'pressure', 'Usage']] = scaler.fit_transform(Daniel[['temperature', 'vibration', 'pressure', 'Usage']])\n",
        "\n",
        "# Encoding categorical target variable\n",
        "label_encoder = LabelEncoder()\n",
        "Daniel['failure'] = label_encoder.fit_transform(Daniel['failure'])\n",
        "\n",
        "# Split the data\n",
        "X = Daniel[['temperature', 'vibration', 'pressure', 'Usage']]\n",
        "y = Daniel['failure']\n",
        "\n",
        "# Splitting data into training and testing sets\n",
        "X_train, X_test, y_train, y_test = train_test_split(X, y, test_size=0.2, random_state=42)\n",
        "\n",
        "model = RandomForestClassifier(n_estimators=100, random_state=42)\n",
        "model.fit(X_train, y_train)\n",
        "\n",
        "# Prediction\n",
        "predictions = model.predict(X_test)\n",
        "\n",
        "# Evaluation\n",
        "accuracy = accuracy_score(y_test, predictions)\n",
        "confusion_matrix = confusion_matrix(y_test, predictions)\n",
        "classification_report = classification_report(y_test, predictions, zero_division=1)\n",
        "\n",
        "# Printing the evaluation metrics\n",
        "print(f\"Accuracy: {accuracy}\")\n",
        "print(f\"Confusion Matrix:\\n{confusion_matrix}\")\n",
        "print(f\"Classification Report:\\n{classification_report}\")\n",
        "\n",
        "# Maintenance decision prediction\n",
        "predicted_time_until_failure = model.predict(X)\n",
        "print(f\"Predicted time: {predicted_time_until_failure[0]}\")\n",
        "maintenance_threshold = 2855765\n",
        "\n",
        "# To make decision based on a threshold\n",
        "maintenance_needed = sum(predicted_time_until_failure < maintenance_threshold)\n",
        "if maintenance_needed > 1:\n",
        "    print(\"MAINTENANCE IS NEEDED\")\n",
        "else:\n",
        "    print(\"Machine is okay\")\n"
      ]
    }
  ]
}